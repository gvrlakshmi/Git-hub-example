print("EXplain about GitHub projects")
import pandas as pd
import Numpy as np
print("Hello Capstone Project Course!")

